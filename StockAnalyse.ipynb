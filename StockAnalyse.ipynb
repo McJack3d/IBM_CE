{
 "cells": [
  {
   "cell_type": "markdown",
   "id": "6da360d5",
   "metadata": {},
   "source": [
    "# Analyzing Historical Stock/Revenue Data and Building a Dashboard"
   ]
  },
  {
   "cell_type": "markdown",
   "id": "11b7e487",
   "metadata": {},
   "source": [
    "#### Question 1 - Extracting Tesla Stock Data Using yfinance"
   ]
  },
  {
   "cell_type": "markdown",
   "id": "392d789b",
   "metadata": {},
   "source": [
    "Install and import yfinance"
   ]
  },
  {
   "cell_type": "code",
   "execution_count": null,
   "id": "4285d728",
   "metadata": {},
   "outputs": [],
   "source": [
    "# Install yfinance if not already installed\n",
    "!pip install yfinance --upgrade --quiet\n",
    "\n",
    "# Import required libraries\n",
    "import yfinance as yf\n",
    "import pandas as pd"
   ]
  },
  {
   "cell_type": "markdown",
   "id": "171b7a8d",
   "metadata": {},
   "source": [
    "Download Tesla stock data"
   ]
  },
  {
   "cell_type": "code",
   "execution_count": null,
   "id": "751f71c1",
   "metadata": {},
   "outputs": [],
   "source": [
    "# Download Tesla stock data\n",
    "tesla_data = yf.download(\"TSLA\", start=\"2010-01-01\", end=\"2025-01-01\")"
   ]
  },
  {
   "cell_type": "markdown",
   "id": "05d08c76",
   "metadata": {},
   "source": [
    "Reset index"
   ]
  },
  {
   "cell_type": "code",
   "execution_count": null,
   "id": "ff2e317e",
   "metadata": {},
   "outputs": [],
   "source": [
    "# Reset index to make 'Date' a column instead of the index\n",
    "tesla_data.reset_index(inplace=True)"
   ]
  },
  {
   "cell_type": "markdown",
   "id": "7e691b45",
   "metadata": {},
   "source": [
    "Display the first five rows"
   ]
  },
  {
   "cell_type": "code",
   "execution_count": null,
   "id": "56ff7f62",
   "metadata": {},
   "outputs": [],
   "source": [
    "# Display the first five rows\n",
    "tesla_data.head()"
   ]
  },
  {
   "cell_type": "markdown",
   "id": "04de92ea",
   "metadata": {},
   "source": [
    "#### Use Webscraping to Extract Tesla Revenue Data"
   ]
  },
  {
   "cell_type": "markdown",
   "id": "24b257eb",
   "metadata": {},
   "source": [
    "Install and import libraries"
   ]
  },
  {
   "cell_type": "code",
   "execution_count": null,
   "id": "d9d15551",
   "metadata": {},
   "outputs": [],
   "source": [
    "# Install required libraries\n",
    "!pip install requests beautifulsoup4 lxml --quiet\n",
    "\n",
    "# Import necessary libraries\n",
    "import requests\n",
    "from bs4 import BeautifulSoup"
   ]
  },
  {
   "cell_type": "markdown",
   "id": "5c0c5ffa",
   "metadata": {},
   "source": [
    "Scrape Tesla revenue data from macrotrends"
   ]
  },
  {
   "cell_type": "code",
   "execution_count": null,
   "id": "b8b4612b",
   "metadata": {},
   "outputs": [],
   "source": [
    "# Define the URL for Tesla revenue data\n",
    "url = \"https://www.macrotrends.net/stocks/charts/TSLA/tesla/revenue\"\n",
    "\n",
    "# Get the page content\n",
    "html_data = requests.get(url).text\n",
    "\n",
    "# Parse the HTML\n",
    "soup = BeautifulSoup(html_data, \"html.parser\")\n",
    "\n",
    "# Find the table containing Tesla's revenue\n",
    "tables = soup.find_all(\"table\")\n",
    "\n",
    "# Loop to find the correct revenue table\n",
    "for table in tables:\n",
    "    if \"Tesla Quarterly Revenue\" in table.text:\n",
    "        tesla_table = table\n",
    "        break\n",
    "\n",
    "# Read table into a dataframe\n",
    "tesla_revenue = pd.read_html(str(tesla_table))[0]\n",
    "\n",
    "# Rename columns\n",
    "tesla_revenue.columns = [\"Date\", \"Revenue\"]\n",
    "\n",
    "# Drop rows with missing or irrelevant data\n",
    "tesla_revenue.dropna(inplace=True)\n",
    "tesla_revenue = tesla_revenue[tesla_revenue[\"Revenue\"] != \"\"]\n",
    "\n",
    "# Clean Revenue column (remove $ and commas)\n",
    "tesla_revenue[\"Revenue\"] = tesla_revenue[\"Revenue\"].replace(\n",
    "    {'\\$': '', ',': ''}, regex=True\n",
    ")\n",
    "\n",
    "# Convert Revenue to numeric\n",
    "tesla_revenue[\"Revenue\"] = pd.to_numeric(tesla_revenue[\"Revenue\"])"
   ]
  },
  {
   "cell_type": "markdown",
   "id": "a2bf844d",
   "metadata": {},
   "source": [
    "Display the last five rows"
   ]
  },
  {
   "cell_type": "code",
   "execution_count": null,
   "id": "1b1f0995",
   "metadata": {},
   "outputs": [],
   "source": [
    "# Display the last five rows\n",
    "tesla_revenue.tail()"
   ]
  },
  {
   "cell_type": "markdown",
   "id": "457e2ae6",
   "metadata": {},
   "source": [
    "#### Use yfinance to Extract Stock Data"
   ]
  },
  {
   "cell_type": "markdown",
   "id": "f8b90b54",
   "metadata": {},
   "source": [
    "Download GameStop stock data"
   ]
  },
  {
   "cell_type": "code",
   "execution_count": null,
   "id": "1e4bf7d8",
   "metadata": {},
   "outputs": [],
   "source": [
    "# Download GameStop stock data\n",
    "gme_data = yf.download(\"GME\", start=\"2010-01-01\", end=\"2025-01-01\")"
   ]
  },
  {
   "cell_type": "markdown",
   "id": "3adc27da",
   "metadata": {},
   "source": [
    "Reset index"
   ]
  },
  {
   "cell_type": "code",
   "execution_count": null,
   "id": "0efa615c",
   "metadata": {},
   "outputs": [],
   "source": [
    "# Reset index so 'Date' becomes a column\n",
    "gme_data.reset_index(inplace=True)"
   ]
  },
  {
   "cell_type": "markdown",
   "id": "fcbf3578",
   "metadata": {},
   "source": [
    "Display the first five rows"
   ]
  },
  {
   "cell_type": "code",
   "execution_count": null,
   "id": "0e61e759",
   "metadata": {},
   "outputs": [],
   "source": [
    "# Show the first five rows\n",
    "gme_data.head()"
   ]
  },
  {
   "cell_type": "markdown",
   "id": "5cae3af6",
   "metadata": {},
   "source": [
    "#### Use Webscraping to Extract GME Revenue Data"
   ]
  },
  {
   "cell_type": "markdown",
   "id": "24068807",
   "metadata": {},
   "source": [
    "Scrape GameStop revenue data"
   ]
  },
  {
   "cell_type": "code",
   "execution_count": null,
   "id": "20587c48",
   "metadata": {},
   "outputs": [],
   "source": [
    "# Define the URL for GameStop revenue data\n",
    "url = \"https://www.macrotrends.net/stocks/charts/GME/gamestop/revenue\"\n",
    "\n",
    "# Fetch the page content\n",
    "html_data = requests.get(url).text\n",
    "\n",
    "# Parse the HTML\n",
    "soup = BeautifulSoup(html_data, \"html.parser\")\n",
    "\n",
    "# Find all tables in the page\n",
    "tables = soup.find_all(\"table\")\n",
    "\n",
    "# Look for the GameStop Quarterly Revenue table\n",
    "for table in tables:\n",
    "    if \"GameStop Quarterly Revenue\" in table.text:\n",
    "        gme_table = table\n",
    "        break\n",
    "\n",
    "# Read the table into a DataFrame\n",
    "gme_revenue = pd.read_html(str(gme_table))[0]\n",
    "\n",
    "# Clean and format the DataFrame\n",
    "gme_revenue.columns = [\"Date\", \"Revenue\"]\n",
    "gme_revenue.dropna(inplace=True)\n",
    "gme_revenue = gme_revenue[gme_revenue[\"Revenue\"] != \"\"]\n",
    "\n",
    "# Clean up the 'Revenue' column (remove $ and commas)\n",
    "gme_revenue[\"Revenue\"] = gme_revenue[\"Revenue\"].replace({'\\$': '', ',': ''}, regex=True)\n",
    "gme_revenue[\"Revenue\"] = pd.to_numeric(gme_revenue[\"Revenue\"])"
   ]
  },
  {
   "cell_type": "markdown",
   "id": "c436d50a",
   "metadata": {},
   "source": [
    "Display the last five rows"
   ]
  },
  {
   "cell_type": "code",
   "execution_count": null,
   "id": "00ecb04c",
   "metadata": {},
   "outputs": [],
   "source": [
    "# Show the last five rows of the dataframe\n",
    "gme_revenue.tail()"
   ]
  },
  {
   "cell_type": "markdown",
   "id": "f8caa4db",
   "metadata": {},
   "source": [
    "#### Plot Tesla Stock Graph"
   ]
  },
  {
   "cell_type": "markdown",
   "id": "aaa7bcc3",
   "metadata": {},
   "source": [
    "Import matplotlib"
   ]
  },
  {
   "cell_type": "code",
   "execution_count": null,
   "id": "f5f57ba3",
   "metadata": {},
   "outputs": [],
   "source": [
    "import matplotlib.pyplot as plt"
   ]
  },
  {
   "cell_type": "markdown",
   "id": "14c92f88",
   "metadata": {},
   "source": [
    "Define the make_graph function"
   ]
  },
  {
   "cell_type": "code",
   "execution_count": null,
   "id": "1065e7d3",
   "metadata": {},
   "outputs": [],
   "source": [
    "def make_graph(data, stock, title):\n",
    "    plt.figure(figsize=(14, 6))\n",
    "    plt.plot(data['Date'], data['Close'], label=stock, color='blue')\n",
    "    plt.title(title)\n",
    "    plt.xlabel('Date')\n",
    "    plt.ylabel('Closing Price (USD)')\n",
    "    plt.grid(True)\n",
    "    plt.legend()\n",
    "    plt.show()"
   ]
  },
  {
   "cell_type": "markdown",
   "id": "3286d386",
   "metadata": {},
   "source": [
    "Call the function to plot Tesla stock"
   ]
  },
  {
   "cell_type": "code",
   "execution_count": null,
   "id": "ad0ce725",
   "metadata": {},
   "outputs": [],
   "source": [
    "# Plot the Tesla stock data using the function\n",
    "make_graph(tesla_data, stock='TSLA', title='Tesla Stock Price Over Time')"
   ]
  },
  {
   "cell_type": "markdown",
   "id": "3d66f167",
   "metadata": {},
   "source": [
    "#### Plot GameStop Stock Graph"
   ]
  },
  {
   "cell_type": "markdown",
   "id": "54bba29f",
   "metadata": {},
   "source": [
    "Call the function for GameStop"
   ]
  },
  {
   "cell_type": "code",
   "execution_count": null,
   "id": "9734c9f3",
   "metadata": {},
   "outputs": [],
   "source": [
    "# Plot the GameStop stock data using the function\n",
    "make_graph(gme_data, stock='GME', title='GameStop Stock Price Over Time')"
   ]
  },
  {
   "cell_type": "markdown",
   "id": "c208146b",
   "metadata": {},
   "source": [
    "#### Author\n",
    "Alexandre Bredillot --"
   ]
  }
 ],
 "metadata": {
  "language_info": {
   "name": "python"
  }
 },
 "nbformat": 4,
 "nbformat_minor": 5
}
